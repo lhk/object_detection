{
 "cells": [
  {
   "cell_type": "code",
   "execution_count": 1,
   "metadata": {
    "collapsed": true
   },
   "outputs": [],
   "source": [
    "import numpy as np\n",
    "import matplotlib.pyplot as plt\n",
    "\n",
    "%matplotlib inline"
   ]
  },
  {
   "cell_type": "code",
   "execution_count": 2,
   "metadata": {
    "collapsed": true
   },
   "outputs": [],
   "source": [
    "batch_size = 16\n",
    "\n",
    "out_x = 15\n",
    "out_y = 16\n",
    "\n",
    "B = 5"
   ]
  },
  {
   "cell_type": "code",
   "execution_count": 3,
   "metadata": {
    "collapsed": true
   },
   "outputs": [],
   "source": [
    "anchors = np.zeros((B, 2))\n",
    "anchors[:] = [[1, 0.3], [0.8, 0.4], [0.6, 0.6], [0.4, 0.8], [0.3, 1]]"
   ]
  },
  {
   "cell_type": "code",
   "execution_count": 4,
   "metadata": {
    "collapsed": true
   },
   "outputs": [],
   "source": [
    "scale = 0.5"
   ]
  },
  {
   "cell_type": "code",
   "execution_count": 5,
   "metadata": {
    "collapsed": true
   },
   "outputs": [],
   "source": [
    "default_boxes = np.zeros((B, 2))\n",
    "default_boxes[:] = anchors * scale\n",
    "default_size_x = default_boxes[:, 0]\n",
    "default_size_y = default_boxes[:, 1]"
   ]
  },
  {
   "cell_type": "code",
   "execution_count": 6,
   "metadata": {},
   "outputs": [],
   "source": [
    "mgrid = np.meshgrid(np.arange(out_x), np.arange(out_y), sparse=False, indexing='ij')"
   ]
  },
  {
   "cell_type": "code",
   "execution_count": 7,
   "metadata": {},
   "outputs": [],
   "source": [
    "x_grid = mgrid[0]\n",
    "y_grid = mgrid[1]\n",
    "\n",
    "x_grid= x_grid.reshape(out_x, out_y, 1)\n",
    "y_grid = y_grid.reshape(out_x, out_y, 1)"
   ]
  },
  {
   "cell_type": "code",
   "execution_count": 8,
   "metadata": {},
   "outputs": [],
   "source": [
    "default_coords = np.zeros((out_x, out_y, B, 4))\n",
    "default_coords[:, :, :, 0] = x_grid - 0.5 * default_size_x * out_x\n",
    "default_coords[:, :, :, 1] = y_grid - 0.5 * default_size_y * out_y\n",
    "default_coords[:, :, :, 2] = x_grid + 0.5 * default_size_x * out_x\n",
    "default_coords[:, :, :, 3] = y_grid + 0.5 * default_size_y * out_y"
   ]
  },
  {
   "cell_type": "code",
   "execution_count": 28,
   "metadata": {},
   "outputs": [
    {
     "data": {
      "image/png": "[encoded data removed]",
      "text/plain": [
       "<matplotlib.figure.Figure at 0x7f4d776075c0>"
      ]
     },
     "metadata": {},
     "output_type": "display_data"
    }
   ],
   "source": [
    "img = np.zeros((out_x, out_y))\n",
    "\n",
    "idx = np.s_[-1, 5, 0, :]\n",
    "min_x, min_y, max_x, max_y = default_coords[idx]\n",
    "\n",
    "min_x = int(min_x)\n",
    "max_x = int(max_x)\n",
    "min_y = int(min_y)\n",
    "max_y = int(max_y)\n",
    "\n",
    "img[min_x : max_x, min_y:max_y]=1\n",
    "\n",
    "plt.imshow(img)\n",
    "plt.show()"
   ]
  },
  {
   "cell_type": "code",
   "execution_count": 29,
   "metadata": {},
   "outputs": [
    {
     "data": {
      "text/plain": [
       "17"
      ]
     },
     "execution_count": 29,
     "metadata": {},
     "output_type": "execute_result"
    }
   ],
   "source": [
    "max_x"
   ]
  },
  {
   "cell_type": "code",
   "execution_count": null,
   "metadata": {
    "collapsed": true
   },
   "outputs": [],
   "source": []
  },
  {
   "cell_type": "code",
   "execution_count": null,
   "metadata": {
    "collapsed": true
   },
   "outputs": [],
   "source": []
  }
 ],
 "metadata": {
  "kernelspec": {
   "display_name": "Python 3",
   "language": "python",
   "name": "python3"
  },
  "language_info": {
   "codemirror_mode": {
    "name": "ipython",
    "version": 3
   },
   "file_extension": ".py",
   "mimetype": "text/x-python",
   "name": "python",
   "nbconvert_exporter": "python",
   "pygments_lexer": "ipython3",
   "version": "3.5.2"
  }
 },
 "nbformat": 4,
 "nbformat_minor": 2
}
